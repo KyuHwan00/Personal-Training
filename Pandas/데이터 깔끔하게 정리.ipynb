{
 "cells": [
  {
   "cell_type": "markdown",
   "id": "926b0946",
   "metadata": {},
   "source": [
    "## 깔끔한 데이터"
   ]
  },
  {
   "cell_type": "markdown",
   "id": "e025c93e",
   "metadata": {},
   "source": [
    "#### 열과 피벗"
   ]
  },
  {
   "cell_type": "code",
   "execution_count": null,
   "id": "7f21ce28",
   "metadata": {},
   "outputs": [],
   "source": [
    "데이터프레임의 열은 파이썬의 변수와 비슷한 역할\n",
    "데이터프레임의 열이 옆으로 길게 늘어선 형태 => 넓은 데이터"
   ]
  },
  {
   "cell_type": "code",
   "execution_count": null,
   "id": "d1f559c4",
   "metadata": {},
   "outputs": [],
   "source": [
    "판다스는 데이터프레임을 깔끔한 데이터로 정리하는데 유용한 melt 메서드를 제공\n",
    "melt 메서드는 지정한 열의 데이터를 모두 행으로 정리해줌.\n",
    "melt 메서드의 인잣값\n",
    "- id_vars = 위치를 그래도 유지할 열의 이름을 지정 \n",
    "    => 고정하여 피벗했다라고 함 / 2개 이상의 열을 고정할때에는 list로 전달\n",
    "- value_vars = 행으로 위치를 변경할 열의 이름을 지정\n",
    "- var_name = 위치를 변경한 열의 이름 지정\n",
    "- value_name = 위치를 변경한 열의 데이터를 저장한 열의 이름을 지정\n",
    "ㅁ/ㅁ => ㅁㅁ\n",
    "\n",
    "'고정하는 열을 기준으로 데이터 전환'"
   ]
  },
  {
   "cell_type": "code",
   "execution_count": null,
   "id": "d11ac7a2",
   "metadata": {},
   "outputs": [],
   "source": [
    "import pandas as pd\n",
    "pew = pd.read_csv()"
   ]
  },
  {
   "cell_type": "code",
   "execution_count": null,
   "id": "eee9bc7a",
   "metadata": {},
   "outputs": [],
   "source": [
    "pew_l = pd.melt(dataframe, id_vars= '고정할 열이름', var_name= '행이 된 열의 이름', value_name= '열 데이터의 새로운 열 이름')"
   ]
  },
  {
   "cell_type": "markdown",
   "id": "4a229f88",
   "metadata": {},
   "source": [
    "#### 열 이름 관리하기"
   ]
  },
  {
   "cell_type": "code",
   "execution_count": null,
   "id": "26bf8f5d",
   "metadata": {},
   "outputs": [],
   "source": [
    "어떤 열은 여러 가지 의미를 가지고 있다면,\n",
    "ex) Deaths_Guinea => '사망자 수' 와 '나라이름'\n",
    "split 메서드로 열 이름 분리하기\n",
    "variable_split = 데이터프레임.열이름.str.split('_')\n",
    "=> list로 저장된 값을 가진 시리즈 생성\n",
    "[앞, 뒤]\n",
    "[앞, 뒤]\n",
    "[앞, 뒤]\n",
    "[앞, 뒤]\n",
    "[앞, 뒤]\n",
    "...\n",
    "0번째 인덱스는 앞 / 1번째 인덱스는 뒤\n",
    "문자열을 분리하여 데이터프레임의 새로운 열로 추가하면 됨\n",
    "get메서드\n",
    "value1 = variable_split.str.get(인덱스값 0/1)\n",
    "\n",
    "데이터프레임['넣을 열이름'] = value1\n",
    "concat메서드로 바로 열 추가\n",
    "variable_split = 데이터프레임.열이름.str.split('_', expand = True) / expand = True 이면 여러 column / False면 하나\n",
    "variable_split.columns = ['열이름', '열이름']\n",
    "새로운 데이터 프레임 변수 = pd.concat(['기존 데이터프레임', variable_split], axis = 1)"
   ]
  },
  {
   "cell_type": "markdown",
   "id": "5bbc6bca",
   "metadata": {},
   "source": [
    "#### 여러 열을 하나로 정리하기"
   ]
  },
  {
   "cell_type": "code",
   "execution_count": null,
   "id": "4d2c8f36",
   "metadata": {},
   "outputs": [],
   "source": [
    "비슷한 성질의 데이터를 관리하기 위해 열이 여러 개로 분리되어 있는 경우 => 옆으로 길게 늘어져 보임\n",
    "=> 열을 행 데이터로 피벗\n",
    "pd.melt(dataframe, id_vars= ['고정할 열 이름들'], var_name= '피벗된 데이터의 새로운 열이름', \n",
    "        value_name= '열의 데이터로 구성된 새로운 열의 이름')\n",
    "pivot_table 메서드\n",
    "행과 열의 위치를 다시 바꿔 정리\n",
    "\n",
    "index 인자\n",
    "=> 위치를 그대로 유지할 열 이름\n",
    "\n",
    "columns 인자\n",
    "=> 피벗할 열 이름\n",
    "\n",
    "values 인자\n",
    "=> 새로운 열의 데이터가 될 열 이름\n",
    "\n",
    "new_data = dataframe.pivot_table(index = ['그대로 유지할 열이름들'], columns = '피벗할 열 이름', \n",
    "                      values = '데이터가 될 열의 이름')\n",
    "인덱스 새로\n",
    "new_data_flat = new_data.reset_index()"
   ]
  },
  {
   "cell_type": "markdown",
   "id": "de12824d",
   "metadata": {},
   "source": [
    "#### 중복 데이터 처리하기"
   ]
  },
  {
   "cell_type": "code",
   "execution_count": null,
   "id": "12ab44e8",
   "metadata": {},
   "outputs": [],
   "source": [
    "반복되는 데이터는 따로 관리하는 것이 좋음 / 데이터를 잘못 입력한 경우를 방지\n",
    "\n",
    "중복 데이터를 가지고 있는 열을 따로 모아 새로운 데이터프레임에 저장\n",
    "\n",
    "drop_duplicates() 메서드로, \n",
    "데이터프레임의 중복 데이터를 제거\n",
    "\n",
    "중복을 제거한 데이터프레임에서 아이디(id)도 추가\n",
    "dataframe['id'] = range(len(dataframe_drop_dup))\n",
    "\n",
    "merge 메서드로 합쳐줌\n",
    "형태가 비슷함으로 on = 인자 사용"
   ]
  },
  {
   "cell_type": "markdown",
   "id": "2a4e0dcb",
   "metadata": {},
   "source": [
    "#### 대용량 데이터 처리하기"
   ]
  },
  {
   "cell_type": "code",
   "execution_count": null,
   "id": "201b455b",
   "metadata": {},
   "outputs": [],
   "source": [
    "데이터는 필요에 따라 나누어 저장하기도 함\n",
    "데이터를 나누어 저장하면 용량이 작아져 데이터를 저장하거나 다른 사람에게 공유할때 유용\n",
    "여러개의 데이터를 신속하게 불러오는 방법\n",
    "glob 라이브러리에 포함된 glob메서드\n",
    "=> 특정한 패턴의 이름을 가진 파일을 한 번에 불러들일 수 있게 해주는 함수"
   ]
  },
  {
   "cell_type": "code",
   "execution_count": 2,
   "id": "53abb3f5",
   "metadata": {},
   "outputs": [],
   "source": [
    "import glob"
   ]
  },
  {
   "cell_type": "code",
   "execution_count": null,
   "id": "1998e0c8",
   "metadata": {},
   "outputs": [],
   "source": [
    "nyc_taxi_data = glob.glob('../data/fhv_*') / *부터 특정한 패턴이 반복된 걸 모두 불러옴"
   ]
  },
  {
   "cell_type": "code",
   "execution_count": null,
   "id": "10654f1d",
   "metadata": {},
   "outputs": [],
   "source": [
    "각각의 파일을 데이터프레임을 저장\n",
    "data1 = read_csv('파일 경로')\n",
    "data2 = read_csv('파일 경로')\n",
    "data3 = read_csv('파일 경로')\n",
    "data4 = read_csv('파일 경로')"
   ]
  },
  {
   "cell_type": "code",
   "execution_count": null,
   "id": "216dc21d",
   "metadata": {},
   "outputs": [],
   "source": [
    "concat 메서드를 이용해서 데이터프레임 연결"
   ]
  },
  {
   "cell_type": "code",
   "execution_count": null,
   "id": "ecd75098",
   "metadata": {},
   "outputs": [],
   "source": [
    "반복문으로 데이터 준비\n",
    "\n",
    "list_sum = []\n",
    "for csv_filename in nyc_taxi_data:\n",
    "    df = pd.read_csv(csv_filename)\n",
    "    list_sum.append(df)\n",
    "=> list_sum 안에 파일에서 불러들인 데이터프레임들이 저장되어있음 / \n",
    "    추출 : list_sum[index] => class 'pandas.core.frame.DataFrame'"
   ]
  }
 ],
 "metadata": {
  "kernelspec": {
   "display_name": "Python 3",
   "language": "python",
   "name": "python3"
  },
  "language_info": {
   "codemirror_mode": {
    "name": "ipython",
    "version": 3
   },
   "file_extension": ".py",
   "mimetype": "text/x-python",
   "name": "python",
   "nbconvert_exporter": "python",
   "pygments_lexer": "ipython3",
   "version": "3.8.8"
  }
 },
 "nbformat": 4,
 "nbformat_minor": 5
}
