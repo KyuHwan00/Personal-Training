{
 "cells": [
  {
   "cell_type": "code",
   "execution_count": null,
   "id": "3e2ca240",
   "metadata": {},
   "outputs": [],
   "source": [
    "분석하기 좋은 데이터\n",
    "데이터분석 목적에 맞는 새로운 표를 만들어야함.\n",
    "측정한 값은 행을 구성해야함\n",
    "변수는 열로 구성해야함 "
   ]
  },
  {
   "cell_type": "code",
   "execution_count": 4,
   "id": "28e8b8da",
   "metadata": {},
   "outputs": [],
   "source": [
    "import pandas as pd"
   ]
  },
  {
   "cell_type": "markdown",
   "id": "3e802425",
   "metadata": {},
   "source": [
    "# 데이터 연결 기초"
   ]
  },
  {
   "cell_type": "code",
   "execution_count": null,
   "id": "145f516c",
   "metadata": {},
   "outputs": [],
   "source": [
    "concat 메서드로 데이터 연결하기\n",
    "concat 메서드는 데이터프레임을 연결할때 위에서 아래방향으로 연결 / 데이터연결 시 기존의 인덱스도 그대로 유지\n",
    "                                                                    => 추출 시 iloc 사용\n",
    "데이터프레임과 시리즈가 concat메서드로 연결될 시, 행이 아니라 열로 추가됨, 누락값(NAN) 많이 발생\n",
    "\n",
    "그러므로 데이터프레임과 시리즈 연결 시, 행이 1개더라도 데이터프레임으로 만들어서 연결\n",
    "=> pd.DataFrame([[측정한 값]] , columns = [각 열의 이름])\n",
    "\n",
    "concat 메서드는 2개이상의 데이터프레임을 연결할때 사용, 1개일때는 df.append(새로운 행) 사용가능\n",
    "=> append 와 딕션너리를 사용하면 간편하게 행을 추가할 수 있음. => df.append(dict, ignore_index = True)\n",
    "\n",
    "ignore_index는 데이터연결시 데이터의 인덱스를 0부터 다시 지정"
   ]
  },
  {
   "cell_type": "markdown",
   "id": "34355c6f",
   "metadata": {},
   "source": [
    "## 열방향으로 데이터 연결하기"
   ]
  },
  {
   "cell_type": "code",
   "execution_count": null,
   "id": "78ab680c",
   "metadata": {},
   "outputs": [],
   "source": [
    "열방향으로 데이터 연결하기 (axis = 1)\n",
    "pd.concat([연결할 데이터프레임들], axis =1)\n",
    "이때 ignore_index를 활용하면 열 이름을 다시 0부터 지정을 해줌."
   ]
  },
  {
   "cell_type": "markdown",
   "id": "41154b31",
   "metadata": {},
   "source": [
    "## 공통열과 공통 인덱스만 연결하기"
   ]
  },
  {
   "cell_type": "code",
   "execution_count": null,
   "id": "ec97001b",
   "metadata": {},
   "outputs": [],
   "source": [
    "열이름의 일부가 서로 다른 데이터프레임을 연결하면,\n",
    "누락값 많이 발생\n",
    "\n",
    "그러므로 누락값이 없는 데이터를 만들려면,\n",
    "공통된 열만을 골러 연결하면 누락값이 생기지 않음\n",
    "공통 열만 골라서 연결하려면 join 인자를 'inner' 로 지정, 공통된 열이 없는 경우는 Empty Frame으로 나타남\n",
    "=> pd.concat([연결할 데이터프레임들], join= 'inner') / 행끼리도 마찬가지"
   ]
  },
  {
   "cell_type": "markdown",
   "id": "6f5455a1",
   "metadata": {},
   "source": [
    "## 데이터 연결 마무리"
   ]
  },
  {
   "cell_type": "code",
   "execution_count": null,
   "id": "bbcc9100",
   "metadata": {},
   "outputs": [],
   "source": [
    "merge메서드\n",
    "기본적으로 내부 조인을 실행하며 메서드를 사용한 데이터프레임을 왼쪽으로 지정, 첫번째인자값을 지정한 데이터프레임을\n",
    "오른쪽으로 지정.=> left_on, right_on 인자는 값이 일치해야 할 왼쪽과 오른쪽 데이터프레임의 열을 지정\n",
    "=> 왼쪽이 될 데이터프레임.merge(오른쪽이 될 데이터프레임, \n",
    "                      left_on = '일치해야할 데이터 열', right_on = '일치해야할 데이터 열')\n",
    "=> 둘 다 데이터 형태가 같다면 on = ['일치할 데이터 열']\n",
    "=> left와 right에 전달하는 값은 여러개라도  상관이 없음.\n",
    "양쪽 데이터 프레임에 있었던 중복된 열 이름에 접미사 _x 혹은 _y가 추가됨 / x는 왼쪽, y는 오른쪽"
   ]
  },
  {
   "cell_type": "markdown",
   "id": "83e0fbe6",
   "metadata": {},
   "source": [
    "## 누락값 처리하기"
   ]
  },
  {
   "cell_type": "code",
   "execution_count": null,
   "id": "2479272b",
   "metadata": {},
   "outputs": [],
   "source": [
    "누락값은 NaN, NAN, nan과 같은 방법으로 표기됨\n",
    "누락값을 사용하려면 numpy 라이브러리가 필요함."
   ]
  },
  {
   "cell_type": "code",
   "execution_count": 8,
   "id": "1938972c",
   "metadata": {},
   "outputs": [],
   "source": [
    "from numpy import nan"
   ]
  },
  {
   "cell_type": "code",
   "execution_count": null,
   "id": "2e0abe89",
   "metadata": {},
   "outputs": [],
   "source": [
    "누락값은 0,''와 같은 값과는 다른 개념, 말 그대로 데이터 자체가 없다는 의미 그래서 같다 (==) 라는 의미가 없음\n",
    "자기 자신과 비교해도 True가 아닌 False가 나오게 됨."
   ]
  },
  {
   "cell_type": "markdown",
   "id": "3258a5df",
   "metadata": {},
   "source": [
    "## 누락값  확인하는 방법"
   ]
  },
  {
   "cell_type": "code",
   "execution_count": null,
   "id": "19064056",
   "metadata": {},
   "outputs": [],
   "source": [
    "1) 누락값 확인\n",
    "isnull 메서드\n",
    "=> pd.isnull(nan)\n",
    "\n",
    "2)누락값이 아닌지 확인\n",
    "=> pd.notnull(233)"
   ]
  },
  {
   "cell_type": "code",
   "execution_count": null,
   "id": "3b15d466",
   "metadata": {},
   "outputs": [],
   "source": [
    "데이터를 입력할때 누락값이 생기는 이유\n",
    "시리즈를 생성할때 데이터프레임에 없는 열과 행 데이터를 입력하여 누락값이 생김.\n",
    "범위를 지정하여 데이터를 추출할 때 누락값이 생기는 경우\n",
    "=> life_exp.loc[range(2000,2010)] 범위에 없는 데이터는 누락값으로 나타남\n",
    "=> life_exp[life_exp.index > 2000] 로 해결"
   ]
  },
  {
   "cell_type": "code",
   "execution_count": null,
   "id": "d33551e9",
   "metadata": {},
   "outputs": [],
   "source": [
    "누락값 갯수 구하는 법\n",
    "dataframe.shape[0] - dataframe.count()\n",
    "or\n",
    "np.count_nonzero(dataframe.isnull())\n",
    "np.count_nonzero(dataframe.열이름.isnull())\n",
    "or\n",
    "dataframe.열이름.value_counts(dropna = False).head()\n",
    "=> 지정한 열의 빈도를 구하는 메서드"
   ]
  },
  {
   "cell_type": "markdown",
   "id": "96404b3e",
   "metadata": {},
   "source": [
    "## 누락값 처리하기"
   ]
  },
  {
   "cell_type": "code",
   "execution_count": null,
   "id": "a474cc60",
   "metadata": {},
   "outputs": [],
   "source": [
    "변경\n",
    "1)\n",
    "fillna 메서드에 0을 대입하면 누락값을 0으로 변경함\n",
    "=> dataframe.fillna(0)\n",
    "\n",
    "2)\n",
    "fillna 메서드에 method 인잣값을 ffill로 지정하면 누락값이 나타나기 전의 값으로 누락값을 변경\n",
    "ex) 6행의 누락값은 누락값이 나타나기 전의 값인 5행의 값을 사용하여 누락값 처리 but 0,1행은 처음부터 누락값이면\n",
    "누락값 그대로 유지\n",
    "=> dataframe.fillna(method = 'ffill')\n",
    "3)\n",
    "method 인잣값을 bfill로 지정하면 누락값이 '나타난 이후'의 첫번째 값으로 앞쪽의 누락값이 모두 변경\n",
    "하지만 마지막 값이 누락값인 경우에는 처리하지 못한다는 단점이 있음\n",
    "=> dataframe.fillna(method = 'bfill')\n",
    "4)\n",
    "interpolate 메서드는 누락값 양쪽에 있는 값을 이용하여 중간값을 구한 다음 누락값을 처리함.\n",
    "데이터프레임이 일정한 간격을 유지하고 있는 것처럼 수정이 가능\n",
    "=> dataframe.interpolate()\n",
    "삭제\n",
    "dropna => 누락값이 포함된 행 전체를 삭제하기 때문에 과도한 데이터 손실이 일어날 수 있음"
   ]
  },
  {
   "cell_type": "code",
   "execution_count": null,
   "id": "12fb909c",
   "metadata": {},
   "outputs": [],
   "source": [
    "누락값이 포함된 데이터 계산하기\n",
    "누락값이 하나라도 있는 행은 계산 결과가 nan이 됨  / 즉 더 많은 누락값이 나옴\n",
    "sum메서드에서 누락값을 무시한채 계산할려면 sum(skipna =)"
   ]
  }
 ],
 "metadata": {
  "kernelspec": {
   "display_name": "Python 3",
   "language": "python",
   "name": "python3"
  },
  "language_info": {
   "codemirror_mode": {
    "name": "ipython",
    "version": 3
   },
   "file_extension": ".py",
   "mimetype": "text/x-python",
   "name": "python",
   "nbconvert_exporter": "python",
   "pygments_lexer": "ipython3",
   "version": "3.8.8"
  }
 },
 "nbformat": 4,
 "nbformat_minor": 5
}
