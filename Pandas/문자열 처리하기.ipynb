{
 "cells": [
  {
   "cell_type": "markdown",
   "id": "f17cf0d8",
   "metadata": {},
   "source": [
    "# 문자열 처리하기"
   ]
  },
  {
   "cell_type": "code",
   "execution_count": null,
   "id": "32df0380",
   "metadata": {},
   "outputs": [],
   "source": [
    "전체 문자열 추출 = 문자열[:]"
   ]
  },
  {
   "cell_type": "markdown",
   "id": "5a41dcd3",
   "metadata": {},
   "source": [
    "#### 문자열 메서드"
   ]
  },
  {
   "cell_type": "code",
   "execution_count": null,
   "id": "df8a1c29",
   "metadata": {},
   "outputs": [],
   "source": [
    "capitalize = 첫 문자를 대문자로 전환\n",
    "count = 문자열의 개수를 반환\n",
    "startswith = 문자열이 특정 문자로 시작하면 참\n",
    "endswith = 문자열이 특정 문자로 끝나면 참\n",
    "find  = 찾을 문자열의 첫번째 인덱스를 반환 / 실패시 -1을 반환\n",
    "index = find 메서드와 같은 역할을 수행 / 실패시 ValueError 반환\n",
    "isalpha = 모든 문자가 알파벳이면 참\n",
    "isdecimal = 모든 문자가 알파벳이거나 숫자면 참\n",
    "lower = 모든 문자를 소문자로 변환\n",
    "upper = 모든 문자를 대문자로 변환\n",
    "replace = 문자열의 문자를 다른 문자로 교체\n",
    "strip = 양쪽 공백을 제거\n",
    "split = 구분자를 지정하여 문자열을 나누고, 나눈 값들의 리스트를 반환\n",
    "partition = split 메서드와 비슷한 역할을 수행 / 구분자도 같이 반환\n",
    "center = 지정한 너비로 문자열을 늘이고 문자열을 가운데 정렬\n",
    "zfill = 문자열의 빈칸을 0으로 채움"
   ]
  },
  {
   "cell_type": "code",
   "execution_count": null,
   "id": "f176efae",
   "metadata": {},
   "outputs": [],
   "source": [
    "특수 메서드\n",
    "join / splitlines"
   ]
  },
  {
   "cell_type": "code",
   "execution_count": null,
   "id": "8ed7bcd9",
   "metadata": {},
   "outputs": [],
   "source": [
    "join 메서드 \n",
    "문자열을 연결하여 새로운 문자열을 반환\n",
    "join메서드 앞에 '문자'를 지정하면 해당 문자를 단어 사이에 넣어 연결\n",
    "'dwd'.join(list of strings)\n",
    "\n",
    "splitlines 메서드\n",
    "여러 행을 가진 문자열을 분리한 다음 리스트로 반환\n",
    "\"\"\"엉엉ㅈ자자ㅓㅇㅇㅈㅇㅇ:  ㅐㅑ새새ㅑㅐ샷\n",
    "아ㅐㅇ대ㅏ인라ㅝㄹ: 애ㅓ애ㅓ대ㅓㅇ\n",
    "애더애ㅓㅓ대어ㅐ: ㅇㅈㅇㅈㅇㅈㅇㅈㅈ\n",
    "\"\"\""
   ]
  },
  {
   "cell_type": "markdown",
   "id": "65387bf9",
   "metadata": {},
   "source": [
    "#### 문자열 포매팅"
   ]
  },
  {
   "cell_type": "code",
   "execution_count": null,
   "id": "b3f42896",
   "metadata": {},
   "outputs": [],
   "source": [
    "format 메서드\n",
    "{} : 플레이스 홀더\n",
    "{}안에 인덱스로 여러 단어를 전달할 수 있고 문자열도 변수로 지정해도 되지만, format 사용시 변수에 담아 전달\n",
    "{}안에 :, 을 넣으면 숫자를 표현 => 60797 / 60,797\n",
    "인덱스:.3 or 인덱스:.3% => 소수점 이하의 숫자를 n개\n",
    "숫자 자리 : {0.05d} / d는 10진수 (decimal)"
   ]
  },
  {
   "cell_type": "code",
   "execution_count": 5,
   "id": "8a760b8f",
   "metadata": {},
   "outputs": [
    {
     "data": {
      "text/plain": [
       "\"it's jutst a flesh wound!\""
      ]
     },
     "execution_count": 5,
     "metadata": {},
     "output_type": "execute_result"
    }
   ],
   "source": [
    "var = 'flesh wound'\n",
    "s = \"it's jutst a {}!\"\n",
    "s.format(var)"
   ]
  },
  {
   "cell_type": "code",
   "execution_count": 6,
   "id": "4e8d6180",
   "metadata": {},
   "outputs": [
    {
     "data": {
      "text/plain": [
       "\"it's jutst a dwwdw, 233 and rooo!\""
      ]
     },
     "execution_count": 6,
     "metadata": {},
     "output_type": "execute_result"
    }
   ],
   "source": [
    "s = \"it's jutst a {0}, {1} and {2}!\"\n",
    "s.format('dwwdw', 233, 'rooo')"
   ]
  },
  {
   "cell_type": "code",
   "execution_count": 8,
   "id": "28c5df2c",
   "metadata": {},
   "outputs": [
    {
     "data": {
      "text/plain": [
       "\"it's jutst a 0.0005269, 0.189% and 0.01383!\""
      ]
     },
     "execution_count": 8,
     "metadata": {},
     "output_type": "execute_result"
    }
   ],
   "source": [
    "\"it's jutst a {0:.4}, {1:.3%} and {2:.4}!\".format(123/233444, 233/123444, 32/2313)"
   ]
  },
  {
   "cell_type": "code",
   "execution_count": 10,
   "id": "03dd141e",
   "metadata": {},
   "outputs": [
    {
     "data": {
      "text/plain": [
       "\"it's jutst a 000000023!\""
      ]
     },
     "execution_count": 10,
     "metadata": {},
     "output_type": "execute_result"
    }
   ],
   "source": [
    "\"it's jutst a {0:09d}!\".format(23)"
   ]
  },
  {
   "cell_type": "code",
   "execution_count": null,
   "id": "83ede841",
   "metadata": {},
   "outputs": [],
   "source": [
    "f-string 포매팅\n",
    "넣을 걸 변수에 저장후\n",
    "문자열 앞에 f를 붙임\n",
    "{안에 저장한 변수명}\n",
    "읽기 쉬울뿐만 아니라 문자열을 빠르게 처리"
   ]
  },
  {
   "cell_type": "code",
   "execution_count": 11,
   "id": "65b8890e",
   "metadata": {},
   "outputs": [
    {
     "data": {
      "text/plain": [
       "\"it's dododo a dede\""
      ]
     },
     "execution_count": 11,
     "metadata": {},
     "output_type": "execute_result"
    }
   ],
   "source": [
    "var = 'dede'\n",
    "f\"it's dododo a {var}\""
   ]
  },
  {
   "cell_type": "markdown",
   "id": "720b4be5",
   "metadata": {},
   "source": [
    "#### 정규표현식"
   ]
  },
  {
   "cell_type": "code",
   "execution_count": null,
   "id": "01a90624",
   "metadata": {},
   "outputs": [],
   "source": [
    "https://wikidocs.net/4308"
   ]
  },
  {
   "cell_type": "code",
   "execution_count": null,
   "id": "7383d1dd",
   "metadata": {},
   "outputs": [],
   "source": [
    "수만개의 문자열에서 내가 원하는 패턴의 문자열만 추출\n",
    "기본 정규식 문법\n",
    ". = .a = 문자(a) 앞에 문자 1개가 있는 패턴을 찾음\n",
    "^ = ^I like = 문자열의 처음부터 일치하는 패턴 찾음\n",
    "$ = on$ = 문자열의 끝 부분부터 일치하는 패턴 찾음\n",
    "* = n\\d+ = n 이후 숫자(\\d)가 0개 이상인 패턴을 찾음\n",
    "+\n",
    "?\n",
    "{m}\n",
    "{m,n}\n",
    "\\\n",
    "[]\n",
    "|\n",
    "()\n",
    "\n",
    "정규식 특수 문자\n",
    "\\d : [0-9]와 동일, 숫자 1개를 의미\n",
    "\\D : 숫자 이외의 문자 1개를 의미 [^0-9]\n",
    "\\s : 공백이나 탭 1개를 의미\n",
    "\\S : 공백 문자 이외의 문자 1개를 의미\n",
    "\\w : 알파벳 1개를 의미\n",
    "\\W : 알파벳 이외의 문자 1개를 의미 (한글, 중국어 등)"
   ]
  },
  {
   "cell_type": "code",
   "execution_count": null,
   "id": "e4bcea85",
   "metadata": {},
   "outputs": [],
   "source": []
  }
 ],
 "metadata": {
  "kernelspec": {
   "display_name": "Python 3",
   "language": "python",
   "name": "python3"
  },
  "language_info": {
   "codemirror_mode": {
    "name": "ipython",
    "version": 3
   },
   "file_extension": ".py",
   "mimetype": "text/x-python",
   "name": "python",
   "nbconvert_exporter": "python",
   "pygments_lexer": "ipython3",
   "version": "3.8.8"
  }
 },
 "nbformat": 4,
 "nbformat_minor": 5
}
